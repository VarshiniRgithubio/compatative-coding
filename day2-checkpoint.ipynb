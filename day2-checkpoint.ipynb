{
 "cells": [
  {
   "cell_type": "code",
   "execution_count": 1,
   "id": "c1f41570",
   "metadata": {},
   "outputs": [],
   "source": [
    "def hyphens(s):\n",
    "    hyp=\"\"\n",
    "    alph=\"\"\n",
    "    for i in s:\n",
    "        if i=='-':\n",
    "            hyp=hyp+i\n",
    "        else:\n",
    "            alph=alph+i\n",
    "    return hyp+alph\n"
   ]
  },
  {
   "cell_type": "code",
   "execution_count": 2,
   "id": "d3dfed9e",
   "metadata": {},
   "outputs": [
    {
     "data": {
      "text/plain": [
       "'--hellohigood'"
      ]
     },
     "execution_count": 2,
     "metadata": {},
     "output_type": "execute_result"
    }
   ],
   "source": [
    "hyphens(\"hello-hi-good\")"
   ]
  },
  {
   "cell_type": "code",
   "execution_count": 3,
   "id": "d276f469",
   "metadata": {},
   "outputs": [
    {
     "data": {
      "text/plain": [
       "'----deepikaispanda'"
      ]
     },
     "execution_count": 3,
     "metadata": {},
     "output_type": "execute_result"
    }
   ],
   "source": [
    "hyphens(\"deepika--is--panda\")"
   ]
  },
  {
   "cell_type": "code",
   "execution_count": 4,
   "id": "4e5d4706",
   "metadata": {},
   "outputs": [
    {
     "data": {
      "text/plain": [
       "'--hello'"
      ]
     },
     "execution_count": 4,
     "metadata": {},
     "output_type": "execute_result"
    }
   ],
   "source": [
    "hyp=\"--\"\n",
    "alph=\"hello\"\n",
    "hyp+alph\n"
   ]
  },
  {
   "cell_type": "code",
   "execution_count": 5,
   "id": "d5aed9ed",
   "metadata": {},
   "outputs": [],
   "source": [
    "#convert the base\n",
    "def number(num,n):\n",
    "    remi=[]\n",
    "    while num!=0:\n",
    "        rem=num%n  #10  #11 #4\n",
    "        remi.append(rem)\n",
    "        num=num//n #59  #4  #0\n",
    "    #conversion\n",
    "    result=''\n",
    "    for i in remi:\n",
    "        if i>9:\n",
    "            c=chr(i+55) #10+55=65 A\n",
    "            result =result+c #A+B=AB\n",
    "        else:\n",
    "            c=str(i)\n",
    "            result=result+c#A+B+4=AB4\n",
    "    return result[::-1]#reversing 4AB"
   ]
  },
  {
   "cell_type": "code",
   "execution_count": 6,
   "id": "ac42b66e",
   "metadata": {},
   "outputs": [
    {
     "data": {
      "text/plain": [
       "'2152'"
      ]
     },
     "execution_count": 6,
     "metadata": {},
     "output_type": "execute_result"
    }
   ],
   "source": [
    "number(500,6)"
   ]
  },
  {
   "cell_type": "code",
   "execution_count": 7,
   "id": "22e59e2e",
   "metadata": {},
   "outputs": [
    {
     "name": "stdout",
     "output_type": "stream",
     "text": [
      "A\n"
     ]
    }
   ],
   "source": [
    "#aski values\n",
    "rem=10\n",
    "c=chr(rem+55)\n",
    "print(c)\n"
   ]
  },
  {
   "cell_type": "code",
   "execution_count": 8,
   "id": "1c2967a8",
   "metadata": {},
   "outputs": [],
   "source": [
    "def password(pwd):\n",
    "    if len(pwd)<4:#password consist of 4digit\n",
    "        return 0\n",
    "    if pwd[0].isdigit():\n",
    "        return 0\n",
    "    cap=0\n",
    "    num=0\n",
    "    for i in pwd:\n",
    "        if i.isupper():\n",
    "            cap=1\n",
    "        elif i.isdigit():\n",
    "            num=1\n",
    "    if cap==1 and num==1:\n",
    "        return 1\n",
    "    else:\n",
    "        return 0\n",
    "            "
   ]
  },
  {
   "cell_type": "code",
   "execution_count": 9,
   "id": "dae500a0",
   "metadata": {},
   "outputs": [
    {
     "data": {
      "text/plain": [
       "1"
      ]
     },
     "execution_count": 9,
     "metadata": {},
     "output_type": "execute_result"
    }
   ],
   "source": [
    "password(\"wA6e\")#we should give in dubble codes"
   ]
  },
  {
   "cell_type": "code",
   "execution_count": 13,
   "id": "d73dec41",
   "metadata": {},
   "outputs": [],
   "source": [
    "def difference(n,m):#\n",
    "    v=0\n",
    "    a=0\n",
    "    for i in range(1,m+1):\n",
    "        if i%n==0:\n",
    "            v=v+i\n",
    "        else:\n",
    "            a=a+i\n",
    "    return abs(v-a)\n",
    "            \n",
    "    "
   ]
  },
  {
   "cell_type": "code",
   "execution_count": 16,
   "id": "9392ff3e",
   "metadata": {},
   "outputs": [
    {
     "data": {
      "text/plain": [
       "110"
      ]
     },
     "execution_count": 16,
     "metadata": {},
     "output_type": "execute_result"
    }
   ],
   "source": [
    "difference(5,20)"
   ]
  },
  {
   "cell_type": "code",
   "execution_count": 21,
   "id": "dca37bf5",
   "metadata": {},
   "outputs": [],
   "source": [
    "def difference(n,m):#using append\n",
    "    v=[]\n",
    "    a=[]\n",
    "    for i in range(1,m+1):\n",
    "        if i%n==0:\n",
    "            v.append(i)\n",
    "            res=sum(v)\n",
    "        else:\n",
    "            a.append(i)\n",
    "            re=sum(a)\n",
    "    return abs(res-re)\n",
    "            "
   ]
  },
  {
   "cell_type": "code",
   "execution_count": 24,
   "id": "80902176",
   "metadata": {},
   "outputs": [
    {
     "data": {
      "text/plain": [
       "84"
      ]
     },
     "execution_count": 24,
     "metadata": {},
     "output_type": "execute_result"
    }
   ],
   "source": [
    "difference(3,20)"
   ]
  },
  {
   "cell_type": "code",
   "execution_count": 49,
   "id": "6747647e",
   "metadata": {},
   "outputs": [
    {
     "name": "stdout",
     "output_type": "stream",
     "text": [
      "9\n"
     ]
    }
   ],
   "source": [
    "arr=[4,1,3,6,2,11,5,5]\n",
    "n=len(arr)\n",
    "e=arr[0:n:2]\n",
    "a=arr[1:n:2]\n",
    "s=sorted(e)#for sorting\n",
    "d=sorted(a)\n",
    "z=s[::-1]#for reversing\n",
    "print(z[1]+d[1])\n"
   ]
  },
  {
   "cell_type": "code",
   "execution_count": 54,
   "id": "9a191e78",
   "metadata": {},
   "outputs": [
    {
     "name": "stdout",
     "output_type": "stream",
     "text": [
      "[5, 4, 3, 2]\n"
     ]
    }
   ],
   "source": [
    "a.sort()\n",
    "print(e)"
   ]
  },
  {
   "cell_type": "code",
   "execution_count": 42,
   "id": "4c86d7c6",
   "metadata": {},
   "outputs": [
    {
     "data": {
      "text/plain": [
       "[4, 3, 2]"
      ]
     },
     "execution_count": 42,
     "metadata": {},
     "output_type": "execute_result"
    }
   ],
   "source": [
    "s[::-1]\n"
   ]
  },
  {
   "cell_type": "code",
   "execution_count": 43,
   "id": "f511cf93",
   "metadata": {},
   "outputs": [
    {
     "name": "stdout",
     "output_type": "stream",
     "text": [
      "9\n"
     ]
    }
   ],
   "source": [
    "print(s[1]+d[1])\n"
   ]
  },
  {
   "cell_type": "code",
   "execution_count": 50,
   "id": "a259b85c",
   "metadata": {},
   "outputs": [
    {
     "name": "stdout",
     "output_type": "stream",
     "text": [
      "[5, 4, 3, 2]\n",
      "[1, 5, 6, 11]\n",
      "9\n"
     ]
    }
   ],
   "source": [
    "arr=[4,1,3,6,2,11,5,5]\n",
    "n=len(arr)\n",
    "e=arr[0:n:2]\n",
    "a=arr[1:n:2]\n",
    "e.sort(reverse=True)\n",
    "a.sort()\n",
    "print(e)\n",
    "print(a)\n",
    "print(e[1]+a[1])"
   ]
  },
  {
   "cell_type": "code",
   "execution_count": 18,
   "id": "88fed83c",
   "metadata": {},
   "outputs": [
    {
     "data": {
      "text/plain": [
       "0"
      ]
     },
     "execution_count": 18,
     "metadata": {},
     "output_type": "execute_result"
    }
   ],
   "source": [
    "def smaller(arr,s):\n",
    "    n=len(arr)\n",
    "    arr.sort()\n",
    "    if arr[0]+arr[1]<s:\n",
    "        return arr[0]*arr[1]\n",
    "    elif n<2:\n",
    "        return -1\n",
    "    else:\n",
    "        return 0\n",
    "smaller([4,1,3,7,8],3)"
   ]
  },
  {
   "cell_type": "code",
   "execution_count": 17,
   "id": "f4633813",
   "metadata": {},
   "outputs": [
    {
     "data": {
      "text/plain": [
       "3"
      ]
     },
     "execution_count": 17,
     "metadata": {},
     "output_type": "execute_result"
    }
   ],
   "source": [
    "smaller([4,1,3,7,8],6)"
   ]
  },
  {
   "cell_type": "code",
   "execution_count": 22,
   "id": "1cd4d7f6",
   "metadata": {},
   "outputs": [],
   "source": [
    "def statment(arr,num,diff):\n",
    "    c=0\n",
    "    for i in arr:\n",
    "        if abs(i)-num<=diff:\n",
    "            c+=1\n",
    "    return c\n",
    "    if c>=1:\n",
    "        return c\n",
    "    else:\n",
    "        return -1"
   ]
  },
  {
   "cell_type": "code",
   "execution_count": 26,
   "id": "c21a9113",
   "metadata": {},
   "outputs": [
    {
     "data": {
      "text/plain": [
       "1"
      ]
     },
     "execution_count": 26,
     "metadata": {},
     "output_type": "execute_result"
    }
   ],
   "source": [
    "statment([9,7,13,21,10],8,0)"
   ]
  },
  {
   "cell_type": "code",
   "execution_count": 4,
   "id": "1535056c",
   "metadata": {},
   "outputs": [],
   "source": [
    " def isValid(self, s: str) -> bool:\n",
    "        dict1={'(':')','{':'}','[':']'}\n",
    "        stack=[]\n",
    "        for i in s:\n",
    "            if i in dict1:\n",
    "                stack.append(dict1[i])\n",
    "            else:\n",
    "                if not stack or stack.pop()!=i:\n",
    "                    return False\n",
    "        if len(stack)==0:\n",
    "            return True\n",
    "        else:\n",
    "            return False"
   ]
  },
  {
   "cell_type": "code",
   "execution_count": 5,
   "id": "765e3999",
   "metadata": {},
   "outputs": [
    {
     "ename": "TypeError",
     "evalue": "isValid() missing 1 required positional argument: 's'",
     "output_type": "error",
     "traceback": [
      "\u001b[1;31m---------------------------------------------------------------------------\u001b[0m",
      "\u001b[1;31mTypeError\u001b[0m                                 Traceback (most recent call last)",
      "\u001b[1;32m~\\AppData\\Local\\Temp\\ipykernel_9272\\2137570953.py\u001b[0m in \u001b[0;36m<module>\u001b[1;34m\u001b[0m\n\u001b[1;32m----> 1\u001b[1;33m \u001b[0misValid\u001b[0m\u001b[1;33m(\u001b[0m\u001b[1;34m\"{{[]}}\"\u001b[0m\u001b[1;33m)\u001b[0m\u001b[1;33m\u001b[0m\u001b[1;33m\u001b[0m\u001b[0m\n\u001b[0m",
      "\u001b[1;31mTypeError\u001b[0m: isValid() missing 1 required positional argument: 's'"
     ]
    }
   ],
   "source": [
    "isValid(\"{{[]}}\")"
   ]
  },
  {
   "cell_type": "code",
   "execution_count": null,
   "id": "f5398099",
   "metadata": {},
   "outputs": [],
   "source": []
  }
 ],
 "metadata": {
  "kernelspec": {
   "display_name": "Python 3 (ipykernel)",
   "language": "python",
   "name": "python3"
  },
  "language_info": {
   "codemirror_mode": {
    "name": "ipython",
    "version": 3
   },
   "file_extension": ".py",
   "mimetype": "text/x-python",
   "name": "python",
   "nbconvert_exporter": "python",
   "pygments_lexer": "ipython3",
   "version": "3.9.13"
  }
 },
 "nbformat": 4,
 "nbformat_minor": 5
}
