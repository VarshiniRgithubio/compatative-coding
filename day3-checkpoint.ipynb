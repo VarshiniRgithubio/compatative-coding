{
 "cells": [
  {
   "cell_type": "code",
   "execution_count": 11,
   "id": "050b40c8",
   "metadata": {},
   "outputs": [
    {
     "data": {
      "text/plain": [
       "'10101'"
      ]
     },
     "execution_count": 11,
     "metadata": {},
     "output_type": "execute_result"
    }
   ],
   "source": [
    "a=\"1010\"\n",
    "b=int(a,2)\n",
    "c=\"1011\"\n",
    "d=int(c,2)\n",
    "bin(b+d)[2:]"
   ]
  },
  {
   "cell_type": "code",
   "execution_count": 19,
   "id": "bb923a34",
   "metadata": {},
   "outputs": [],
   "source": [
    "def addbinary(a,b):\n",
    "    return bin(int(a,2)+int(b,2))[2:]"
   ]
  },
  {
   "cell_type": "code",
   "execution_count": 20,
   "id": "dc0c371d",
   "metadata": {},
   "outputs": [
    {
     "data": {
      "text/plain": [
       "'100'"
      ]
     },
     "execution_count": 20,
     "metadata": {},
     "output_type": "execute_result"
    }
   ],
   "source": [
    "addbinary(\"11\",\"1\")"
   ]
  },
  {
   "cell_type": "code",
   "execution_count": 33,
   "id": "4452d829",
   "metadata": {},
   "outputs": [],
   "source": [
    "def program(x1,x2,x3,y1,y2,y3):\n",
    "    AB=((x2-x1)**2+(y2-y1)**2)**0.5\n",
    "    BC=((x3-x2)**2+(y3-y2)**2)**0.5\n",
    "    CA=((x1-x3)**2+(y1-y3)**2)**0.5\n",
    "    return AB+BC+CA \n",
    "    "
   ]
  },
  {
   "cell_type": "code",
   "execution_count": 34,
   "id": "6b6c7285",
   "metadata": {},
   "outputs": [
    {
     "data": {
      "text/plain": [
       "10.783510444802673"
      ]
     },
     "execution_count": 34,
     "metadata": {},
     "output_type": "execute_result"
    }
   ],
   "source": [
    "program(x1=1,y1=1,x2=2,y2=4,x3=3,y3=6)"
   ]
  },
  {
   "cell_type": "code",
   "execution_count": 40,
   "id": "c3b5ce98",
   "metadata": {},
   "outputs": [],
   "source": [
    "def atoi(s):\n",
    "    s=s.strip()#to give the space \n",
    "    sign=1\n",
    "    if len(s)==0:#when the space is given in that time\n",
    "        return 0\n",
    "    if s[0]=='-':#the first character is -\n",
    "        sign=-1#return -1\n",
    "        s=s[1:]\n",
    "    elif s[0]=='+':\n",
    "        s=s[1:] \n",
    "        \n",
    "    result=0\n",
    "    for i in s:\n",
    "        if i.isdigit():\n",
    "            digit=int(i)\n",
    "            result=result*10+digit\n",
    "        else:\n",
    "            break\n",
    "    result=result*sign\n",
    "    mini=-2**31\n",
    "    maxi=2**31-1\n",
    "    if result>maxi:\n",
    "        return maxi\n",
    "    elif result<mini:\n",
    "        return mini\n",
    "    else:\n",
    "        return result\n",
    "    \n",
    "    \n",
    "    "
   ]
  },
  {
   "cell_type": "code",
   "execution_count": 42,
   "id": "f8d2fe63",
   "metadata": {},
   "outputs": [
    {
     "data": {
      "text/plain": [
       "-34"
      ]
     },
     "execution_count": 42,
     "metadata": {},
     "output_type": "execute_result"
    }
   ],
   "source": [
    "atoi(\"-34gdrdtg\")"
   ]
  },
  {
   "cell_type": "code",
   "execution_count": 45,
   "id": "2b37b6cc",
   "metadata": {},
   "outputs": [],
   "source": [
    "def ai(s):\n",
    "    s=s.strip()\n",
    "    sign=1\n",
    "    if len(s)==0:\n",
    "        return 0\n",
    "    if s[0]=='-':\n",
    "        sign=-1\n",
    "        s=s[1:]\n",
    "    elif s[0]=='+':\n",
    "        s=s[1:]\n",
    "    result=0\n",
    "    for i in s:\n",
    "        if i.isdigit():\n",
    "            digit=int(i)\n",
    "            result=result*10+digit\n",
    "        else:\n",
    "            break\n",
    "    result=result*sign\n",
    "    mini=-2**31\n",
    "    maxi=2**31-1\n",
    "    if result>maxi:\n",
    "        return maxi\n",
    "    elif result<mini:\n",
    "        return mini\n",
    "    else:\n",
    "        return result\n",
    "        \n",
    "        \n",
    "        \n",
    "        "
   ]
  },
  {
   "cell_type": "code",
   "execution_count": 46,
   "id": "7ac71655",
   "metadata": {},
   "outputs": [
    {
     "data": {
      "text/plain": [
       "-23"
      ]
     },
     "execution_count": 46,
     "metadata": {},
     "output_type": "execute_result"
    }
   ],
   "source": [
    "ai(\"-23dfff\")"
   ]
  },
  {
   "cell_type": "code",
   "execution_count": 48,
   "id": "4397f51c",
   "metadata": {},
   "outputs": [],
   "source": [
    "def roman(s):\n",
    "    R={'I':1,'V':5,'X':10,'L':50,'C':100,'D':500,'M':1000}\n",
    "    total=0\n",
    "    for i in range(len(s)):#from 0,1,2,3\n",
    "        c=R[s[i]]#0  value 10\n",
    "        n=R[s[i+1]] if i+1<len(s) else 0\n",
    "        if c>=0:\n",
    "            total=total+c\n",
    "        else:\n",
    "            total=total-c\n",
    "    return total\n",
    "         "
   ]
  },
  {
   "cell_type": "code",
   "execution_count": 49,
   "id": "26d712af",
   "metadata": {},
   "outputs": [
    {
     "data": {
      "text/plain": [
       "26"
      ]
     },
     "execution_count": 49,
     "metadata": {},
     "output_type": "execute_result"
    }
   ],
   "source": [
    "roman(\"XXIV\")"
   ]
  },
  {
   "cell_type": "code",
   "execution_count": 61,
   "id": "de3b4a3c",
   "metadata": {},
   "outputs": [],
   "source": [
    "def randomize(arr):\n",
    "    import random as rd\n",
    "    rd.shuffle(arr)\n",
    "    return arr"
   ]
  },
  {
   "cell_type": "code",
   "execution_count": 62,
   "id": "7f1bf11c",
   "metadata": {},
   "outputs": [
    {
     "data": {
      "text/plain": [
       "[2, 1, 3, 4]"
      ]
     },
     "execution_count": 62,
     "metadata": {},
     "output_type": "execute_result"
    }
   ],
   "source": [
    "randomize([1,2,3,4])"
   ]
  },
  {
   "cell_type": "code",
   "execution_count": 3,
   "id": "7f86ad0c",
   "metadata": {},
   "outputs": [
    {
     "data": {
      "text/plain": [
       "19"
      ]
     },
     "execution_count": 3,
     "metadata": {},
     "output_type": "execute_result"
    }
   ],
   "source": [
    "def substring(haystack,needle):\n",
    "    return haystack.find(needle)\n",
    "haystack='hellojwlihellojwalihow'\n",
    "needle='how'\n",
    "substring(haystack,needle)"
   ]
  },
  {
   "cell_type": "code",
   "execution_count": 10,
   "id": "e89ece92",
   "metadata": {},
   "outputs": [],
   "source": [
    "def summing(num,target):\n",
    "    for i in range(len(num)):\n",
    "        for j in range(i+1,len(num)):\n",
    "            if num[i]+num[j]==target:\n",
    "                return[i,j]"
   ]
  },
  {
   "cell_type": "code",
   "execution_count": 11,
   "id": "53f6799b",
   "metadata": {},
   "outputs": [
    {
     "data": {
      "text/plain": [
       "[3, 5]"
      ]
     },
     "execution_count": 11,
     "metadata": {},
     "output_type": "execute_result"
    }
   ],
   "source": [
    "summing([2,3,11,15,7,6],21)"
   ]
  },
  {
   "cell_type": "code",
   "execution_count": 28,
   "id": "aeadbf25",
   "metadata": {},
   "outputs": [],
   "source": [
    "def taxcalculator(sal,tax,convenience):\n",
    "    if sal<0:\n",
    "        return -1\n",
    "    elif sal>0 and sal<5000:\n",
    "        return \"no tax\"\n",
    "    elif sal<5000 and sal>=10000:\n",
    "        return s-(s*0.05+10)\n",
    "    "
   ]
  },
  {
   "cell_type": "code",
   "execution_count": 32,
   "id": "889988b6",
   "metadata": {},
   "outputs": [
    {
     "data": {
      "text/plain": [
       "1500"
      ]
     },
     "execution_count": 32,
     "metadata": {},
     "output_type": "execute_result"
    }
   ],
   "source": [
    "taxcalculator(1500,5,10)"
   ]
  },
  {
   "cell_type": "code",
   "execution_count": null,
   "id": "18383d6c",
   "metadata": {},
   "outputs": [],
   "source": []
  }
 ],
 "metadata": {
  "kernelspec": {
   "display_name": "Python 3 (ipykernel)",
   "language": "python",
   "name": "python3"
  },
  "language_info": {
   "codemirror_mode": {
    "name": "ipython",
    "version": 3
   },
   "file_extension": ".py",
   "mimetype": "text/x-python",
   "name": "python",
   "nbconvert_exporter": "python",
   "pygments_lexer": "ipython3",
   "version": "3.9.13"
  }
 },
 "nbformat": 4,
 "nbformat_minor": 5
}
