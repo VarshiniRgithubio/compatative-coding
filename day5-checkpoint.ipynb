{
 "cells": [
  {
   "cell_type": "code",
   "execution_count": 5,
   "id": "235db080",
   "metadata": {},
   "outputs": [
    {
     "name": "stdout",
     "output_type": "stream",
     "text": [
      "[2]\n"
     ]
    }
   ],
   "source": [
    "num1={1,2,3,4}\n",
    "num2={2,2,2}\n",
    "v=num1.intersection(num2)\n",
    "print(list(v))"
   ]
  },
  {
   "cell_type": "code",
   "execution_count": 67,
   "id": "82c25f28",
   "metadata": {},
   "outputs": [],
   "source": [
    "def var(r,units,arr):\n",
    "    v=r*units\n",
    "    result=0#save in the result\n",
    "    for i in range(len(arr)):\n",
    "        result=result+arr[i]\n",
    "        if result>=v:\n",
    "            return i+1\n",
    "    #after steeling food also not sufficient\n",
    "    if sum(arr) <result:\n",
    "        return 0\n",
    "    #is sufficient return house number\n",
    "    return -1"
   ]
  },
  {
   "cell_type": "code",
   "execution_count": 68,
   "id": "d805a51e",
   "metadata": {},
   "outputs": [
    {
     "data": {
      "text/plain": [
       "5"
      ]
     },
     "execution_count": 68,
     "metadata": {},
     "output_type": "execute_result"
    }
   ],
   "source": [
    "var(13,2,[2,8,3,5,8])"
   ]
  },
  {
   "cell_type": "code",
   "execution_count": 69,
   "id": "88faaad6",
   "metadata": {},
   "outputs": [
    {
     "data": {
      "text/plain": [
       "4"
      ]
     },
     "execution_count": 69,
     "metadata": {},
     "output_type": "execute_result"
    }
   ],
   "source": [
    "var(7,2,[2,8,3,5,8])"
   ]
  },
  {
   "cell_type": "code",
   "execution_count": 70,
   "id": "59c396db",
   "metadata": {},
   "outputs": [
    {
     "data": {
      "text/plain": [
       "-1"
      ]
     },
     "execution_count": 70,
     "metadata": {},
     "output_type": "execute_result"
    }
   ],
   "source": [
    "var(7,2,[])#empty"
   ]
  },
  {
   "cell_type": "code",
   "execution_count": 82,
   "id": "67230654",
   "metadata": {},
   "outputs": [],
   "source": [
    "def factor(num):\n",
    "    if num<=0:\n",
    "        return 0\n",
    "    result=[i for i in range(1,num+1) if num%i==0]\n",
    "    return result"
   ]
  },
  {
   "cell_type": "code",
   "execution_count": 83,
   "id": "6f1297d7",
   "metadata": {},
   "outputs": [
    {
     "data": {
      "text/plain": [
       "[1, 2, 17, 34]"
      ]
     },
     "execution_count": 83,
     "metadata": {},
     "output_type": "execute_result"
    }
   ],
   "source": [
    "factor(34)"
   ]
  },
  {
   "cell_type": "code",
   "execution_count": 90,
   "id": "7c383db7",
   "metadata": {},
   "outputs": [],
   "source": [
    "class mystack:\n",
    "    def __init__(self):\n",
    "        self.st=[]\n",
    "    def revers(self,mystr):\n",
    "        result=''\n",
    "        for i in mystr:\n",
    "            self.st.append(i)\n",
    "        for i in range(len(self.st)):\n",
    "            poped=self.st.pop()\n",
    "            result=result+poped\n",
    "        return result"
   ]
  },
  {
   "cell_type": "code",
   "execution_count": 91,
   "id": "c1b533ce",
   "metadata": {},
   "outputs": [
    {
     "data": {
      "text/plain": [
       "'llik'"
      ]
     },
     "execution_count": 91,
     "metadata": {},
     "output_type": "execute_result"
    }
   ],
   "source": [
    "B=mystack()\n",
    "B.revers(\"kill\")"
   ]
  },
  {
   "cell_type": "code",
   "execution_count": 105,
   "id": "8ae78960",
   "metadata": {},
   "outputs": [],
   "source": [
    "def miss(arr):\n",
    "    for i in range(1,len(arr)+1):\n",
    "        if i not in arr:\n",
    "            return i*\"*\"\n"
   ]
  },
  {
   "cell_type": "code",
   "execution_count": 109,
   "id": "fb2648a2",
   "metadata": {},
   "outputs": [
    {
     "data": {
      "text/plain": [
       "'********'"
      ]
     },
     "execution_count": 109,
     "metadata": {},
     "output_type": "execute_result"
    }
   ],
   "source": [
    "miss([1,2,3,4,5,6,7,9])"
   ]
  },
  {
   "cell_type": "code",
   "execution_count": 119,
   "id": "c21253df",
   "metadata": {},
   "outputs": [
    {
     "data": {
      "text/plain": [
       "1691"
      ]
     },
     "execution_count": 119,
     "metadata": {},
     "output_type": "execute_result"
    }
   ],
   "source": [
    "ord(\"A\")*26+1"
   ]
  },
  {
   "cell_type": "code",
   "execution_count": 115,
   "id": "6460f80b",
   "metadata": {},
   "outputs": [
    {
     "data": {
      "text/plain": [
       "2"
      ]
     },
     "execution_count": 115,
     "metadata": {},
     "output_type": "execute_result"
    }
   ],
   "source": [
    "ord(\"B\")-64"
   ]
  },
  {
   "cell_type": "code",
   "execution_count": 122,
   "id": "24933d29",
   "metadata": {},
   "outputs": [],
   "source": [
    "def col(name):\n",
    "    result=0\n",
    "    for i in name:\n",
    "        result=result*26+ord(i)-64\n",
    "    return result"
   ]
  },
  {
   "cell_type": "code",
   "execution_count": 123,
   "id": "a4bf7ee6",
   "metadata": {},
   "outputs": [
    {
     "data": {
      "text/plain": [
       "703"
      ]
     },
     "execution_count": 123,
     "metadata": {},
     "output_type": "execute_result"
    }
   ],
   "source": [
    "col('AAA')"
   ]
  },
  {
   "cell_type": "code",
   "execution_count": 126,
   "id": "3c4d6d0d",
   "metadata": {},
   "outputs": [
    {
     "ename": "SyntaxError",
     "evalue": "EOL while scanning string literal (3415484816.py, line 10)",
     "output_type": "error",
     "traceback": [
      "\u001b[1;36m  File \u001b[1;32m\"C:\\Users\\varsh\\AppData\\Local\\Temp\\ipykernel_20952\\3415484816.py\"\u001b[1;36m, line \u001b[1;32m10\u001b[0m\n\u001b[1;33m    choices=\"option 1:withdrwal\\n option 2:deposit\\n option 3:Quit\\n option 4:balance enquiry\\n option 5:offers on FD\u001b[0m\n\u001b[1;37m                                                                                                                     ^\u001b[0m\n\u001b[1;31mSyntaxError\u001b[0m\u001b[1;31m:\u001b[0m EOL while scanning string literal\n"
     ]
    }
   ],
   "source": [
    "def atm(w,d,pin):\n",
    "    print(\"welcome to canara bank\")\n",
    "    pin={\"jwalitha kuma\":4555,\"sharth\":7895}\n",
    "    bal={\"jwalitha kuma\":4555,\"sharth\":7895}\n",
    "    name=input(\"enter your name\")\n",
    "    pin=input(\"enter your pin:\")\n",
    "    if pins[name]!=pin:\n",
    "        return \"invalid pin\"\n",
    "    while True:\n",
    "        choices=\"option 1:withdrwal\\n option 2:deposit\\n option 3:Quit\\n option 4:balance enquiry\\n option 5:offers on FD\n",
    "        print(choices)\n",
    "        choice=int(input(\"enter choice:\"))\n",
    "        if choices==1:\n",
    "            print(\"wthdrwal\")\n",
    "            w=int(input(\"enter the withdrwal amount:\"))\n",
    "            b=bal[name]\n",
    "            b=b-w\n",
    "            bal[name]=b\n",
    "            elif choice==2:\n",
    "                print(\"deposit\")\n",
    "                \n",
    "            elif choice==5:\n",
    "    \n",
    "    "
   ]
  },
  {
   "cell_type": "code",
   "execution_count": 127,
   "id": "f3bc5bab",
   "metadata": {},
   "outputs": [],
   "source": [
    "def ATM(pin,amount):\n",
    "    print(\"welcome to atm\")\n",
    "    pins={\"shahi\":\"2344\",\"dwani\":\"5645\"}\n",
    "    pin=input(\"enter pin\")\n",
    "    \n",
    "    \n",
    "    while True:\n",
    "        \n",
    "        option=\"1.withdrawal\\n\"+\"2.deposit\\n\"+\"3.balance\"\n",
    "        print(option)\n",
    "        option=int(input(\"enter the option\"))\n",
    "        if option==1:\n",
    "            amt=int(input(\"enter amount to withdraw\"))\n",
    "            withdrawal=amount-amt\n",
    "            return withdrawal\n",
    "            break\n",
    "        elif option==2:\n",
    "            amt=int(input(\"enter the amount to deposit\"))\n",
    "            deposit=amount+amt\n",
    "            return deposit\n",
    "            break\n",
    "        elif option==3:\n",
    "            return amount\n",
    "            break\n",
    "        else:\n",
    "            print(\"invalid\")\n",
    "            break"
   ]
  },
  {
   "cell_type": "code",
   "execution_count": 125,
   "id": "499c015f",
   "metadata": {},
   "outputs": [
    {
     "name": "stdout",
     "output_type": "stream",
     "text": [
      "welcome to atm\n",
      "enter pin100\n",
      "1.withdrawal\n",
      "2.deposit\n",
      "3.balance\n",
      "enter the option1\n",
      "enter amount to withdraw100\n"
     ]
    },
    {
     "data": {
      "text/plain": [
       "12900"
      ]
     },
     "execution_count": 125,
     "metadata": {},
     "output_type": "execute_result"
    }
   ],
   "source": [
    "ATM(100,13000)"
   ]
  },
  {
   "cell_type": "code",
   "execution_count": null,
   "id": "1e72f913",
   "metadata": {},
   "outputs": [],
   "source": []
  }
 ],
 "metadata": {
  "kernelspec": {
   "display_name": "Python 3 (ipykernel)",
   "language": "python",
   "name": "python3"
  },
  "language_info": {
   "codemirror_mode": {
    "name": "ipython",
    "version": 3
   },
   "file_extension": ".py",
   "mimetype": "text/x-python",
   "name": "python",
   "nbconvert_exporter": "python",
   "pygments_lexer": "ipython3",
   "version": "3.9.13"
  }
 },
 "nbformat": 4,
 "nbformat_minor": 5
}
