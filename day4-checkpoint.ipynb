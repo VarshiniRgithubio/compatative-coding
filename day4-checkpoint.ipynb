{
 "cells": [
  {
   "cell_type": "code",
   "execution_count": 3,
   "id": "834a5aaf",
   "metadata": {},
   "outputs": [],
   "source": [
    "class linkedlist:\n",
    "    class Node:\n",
    "        def _init_(self,data):\n",
    "            self.data=data\n",
    "            self.next=None\n",
    "            \n",
    "    def _init_(self):\n",
    "        self.head=None\n",
    "        \n",
    "    def insertbeg(self,data):\n",
    "        newnode=linkedlist.Node(data)\n",
    "        newnode.next=self.head\n",
    "        self.head=newnode\n",
    "        \n",
    "    def insertend(self,data):\n",
    "        newnode=linkedlist.Node(data)\n",
    "        current=self.head\n",
    "        while current.next:\n",
    "            current=current.next\n",
    "        current.next=newnode\n",
    "        \n",
    "    def traversal(self):\n",
    "        current=self.head\n",
    "        while current:\n",
    "            print(current.data , end=\"-->\")\n",
    "            current=current.next\n",
    "        print(\"None\")\n",
    "        \n",
    "    def delbynode(self,val):\n",
    "        if self.head==None:\n",
    "            return \"Empty List\"\n",
    "        current=self.head\n",
    "        while current.next:\n",
    "            if curr.next.data==val:\n",
    "                break\n",
    "            current=current.next\n",
    "        if current==None:\n",
    "            return \"Val doesnt exist\"\n",
    "        current=current.next.next"
   ]
  },
  {
   "cell_type": "code",
   "execution_count": 2,
   "id": "c892338c",
   "metadata": {},
   "outputs": [
    {
     "ename": "TypeError",
     "evalue": "Node() takes no arguments",
     "output_type": "error",
     "traceback": [
      "\u001b[1;31m---------------------------------------------------------------------------\u001b[0m",
      "\u001b[1;31mTypeError\u001b[0m                                 Traceback (most recent call last)",
      "\u001b[1;32m~\\AppData\\Local\\Temp\\ipykernel_12316\\1734894188.py\u001b[0m in \u001b[0;36m<module>\u001b[1;34m\u001b[0m\n\u001b[0;32m      1\u001b[0m \u001b[0mLL\u001b[0m\u001b[1;33m=\u001b[0m\u001b[0mlinkedlist\u001b[0m\u001b[1;33m(\u001b[0m\u001b[1;33m)\u001b[0m\u001b[1;33m\u001b[0m\u001b[1;33m\u001b[0m\u001b[0m\n\u001b[1;32m----> 2\u001b[1;33m \u001b[0mLL\u001b[0m\u001b[1;33m.\u001b[0m\u001b[0minsertbeg\u001b[0m\u001b[1;33m(\u001b[0m\u001b[1;36m90\u001b[0m\u001b[1;33m)\u001b[0m\u001b[1;33m\u001b[0m\u001b[1;33m\u001b[0m\u001b[0m\n\u001b[0m\u001b[0;32m      3\u001b[0m \u001b[0mLL\u001b[0m\u001b[1;33m.\u001b[0m\u001b[0minsertbeg\u001b[0m\u001b[1;33m(\u001b[0m\u001b[1;36m73\u001b[0m\u001b[1;33m)\u001b[0m\u001b[1;33m\u001b[0m\u001b[1;33m\u001b[0m\u001b[0m\n\u001b[0;32m      4\u001b[0m \u001b[0mLL\u001b[0m\u001b[1;33m.\u001b[0m\u001b[0minsertbeg\u001b[0m\u001b[1;33m(\u001b[0m\u001b[1;36m60\u001b[0m\u001b[1;33m)\u001b[0m\u001b[1;33m\u001b[0m\u001b[1;33m\u001b[0m\u001b[0m\n\u001b[0;32m      5\u001b[0m \u001b[0mLL\u001b[0m\u001b[1;33m.\u001b[0m\u001b[0minsertbeg\u001b[0m\u001b[1;33m(\u001b[0m\u001b[1;36m80\u001b[0m\u001b[1;33m)\u001b[0m\u001b[1;33m\u001b[0m\u001b[1;33m\u001b[0m\u001b[0m\n",
      "\u001b[1;32m~\\AppData\\Local\\Temp\\ipykernel_12316\\148527707.py\u001b[0m in \u001b[0;36minsertbeg\u001b[1;34m(self, data)\u001b[0m\n\u001b[0;32m      9\u001b[0m \u001b[1;33m\u001b[0m\u001b[0m\n\u001b[0;32m     10\u001b[0m     \u001b[1;32mdef\u001b[0m \u001b[0minsertbeg\u001b[0m\u001b[1;33m(\u001b[0m\u001b[0mself\u001b[0m\u001b[1;33m,\u001b[0m\u001b[0mdata\u001b[0m\u001b[1;33m)\u001b[0m\u001b[1;33m:\u001b[0m\u001b[1;33m\u001b[0m\u001b[1;33m\u001b[0m\u001b[0m\n\u001b[1;32m---> 11\u001b[1;33m         \u001b[0mnewnode\u001b[0m\u001b[1;33m=\u001b[0m\u001b[0mlinkedlist\u001b[0m\u001b[1;33m.\u001b[0m\u001b[0mNode\u001b[0m\u001b[1;33m(\u001b[0m\u001b[0mdata\u001b[0m\u001b[1;33m)\u001b[0m\u001b[1;33m\u001b[0m\u001b[1;33m\u001b[0m\u001b[0m\n\u001b[0m\u001b[0;32m     12\u001b[0m         \u001b[0mnewnode\u001b[0m\u001b[1;33m.\u001b[0m\u001b[0mnext\u001b[0m\u001b[1;33m=\u001b[0m\u001b[0mself\u001b[0m\u001b[1;33m.\u001b[0m\u001b[0mhead\u001b[0m\u001b[1;33m\u001b[0m\u001b[1;33m\u001b[0m\u001b[0m\n\u001b[0;32m     13\u001b[0m         \u001b[0mself\u001b[0m\u001b[1;33m.\u001b[0m\u001b[0mhead\u001b[0m\u001b[1;33m=\u001b[0m\u001b[0mnewnode\u001b[0m\u001b[1;33m\u001b[0m\u001b[1;33m\u001b[0m\u001b[0m\n",
      "\u001b[1;31mTypeError\u001b[0m: Node() takes no arguments"
     ]
    }
   ],
   "source": [
    "LL=linkedlist()\n",
    "LL.insertbeg(90)\n",
    "LL.insertbeg(73)\n",
    "LL.insertbeg(60)\n",
    "LL.insertbeg(80)\n",
    "LL.traversal()"
   ]
  },
  {
   "cell_type": "code",
   "execution_count": 4,
   "id": "7cbadc1e",
   "metadata": {},
   "outputs": [],
   "source": [
    "def middle(self):\n",
    "    t=r=self.head\n",
    "    while r and r.next:\n",
    "        t=t.next\n",
    "        r=r.next.next\n",
    "    return t.data\n",
    "    "
   ]
  },
  {
   "cell_type": "code",
   "execution_count": 7,
   "id": "df363d8e",
   "metadata": {},
   "outputs": [
    {
     "ename": "AttributeError",
     "evalue": "'linkedlist' object has no attribute 'middle'",
     "output_type": "error",
     "traceback": [
      "\u001b[1;31m---------------------------------------------------------------------------\u001b[0m",
      "\u001b[1;31mAttributeError\u001b[0m                            Traceback (most recent call last)",
      "\u001b[1;32m~\\AppData\\Local\\Temp\\ipykernel_12316\\1235836367.py\u001b[0m in \u001b[0;36m<module>\u001b[1;34m\u001b[0m\n\u001b[1;32m----> 1\u001b[1;33m \u001b[0mLL\u001b[0m\u001b[1;33m.\u001b[0m\u001b[0mmiddle\u001b[0m\u001b[1;33m(\u001b[0m\u001b[1;36m1\u001b[0m\u001b[1;33m,\u001b[0m\u001b[1;36m2\u001b[0m\u001b[1;33m,\u001b[0m\u001b[1;36m3\u001b[0m\u001b[1;33m,\u001b[0m\u001b[1;36m4\u001b[0m\u001b[1;33m)\u001b[0m\u001b[1;33m\u001b[0m\u001b[1;33m\u001b[0m\u001b[0m\n\u001b[0m",
      "\u001b[1;31mAttributeError\u001b[0m: 'linkedlist' object has no attribute 'middle'"
     ]
    }
   ],
   "source": [
    "LL.middle(1,2,3,4)"
   ]
  },
  {
   "cell_type": "code",
   "execution_count": null,
   "id": "6eb535da",
   "metadata": {},
   "outputs": [],
   "source": [
    "def reverse(self):\n",
    "    prev=None\n",
    "    current=self.head\n",
    "    while current:\n",
    "        nextnode=current.next\n",
    "        current.next=prev\n",
    "        prev=current\n",
    "        current=nextnode\n",
    "    head=prev\n",
    "        "
   ]
  },
  {
   "cell_type": "code",
   "execution_count": 22,
   "id": "0caf6d39",
   "metadata": {},
   "outputs": [],
   "source": [
    "def pos(m,n):\n",
    "    result=0\n",
    "    for i in range(m,n+1):\n",
    "        if i%3==0 and i%5==0:\n",
    "            result=result+i\n",
    "    return result"
   ]
  },
  {
   "cell_type": "code",
   "execution_count": 24,
   "id": "05519ece",
   "metadata": {},
   "outputs": [
    {
     "data": {
      "text/plain": [
       "150"
      ]
     },
     "execution_count": 24,
     "metadata": {},
     "output_type": "execute_result"
    }
   ],
   "source": [
    "pos(12,60)"
   ]
  },
  {
   "cell_type": "code",
   "execution_count": 11,
   "id": "cfd991ec",
   "metadata": {},
   "outputs": [],
   "source": [
    "def var(l1,l2):\n",
    "    dummy=linkedlistNode(0)\n",
    "    current=dummy\n",
    "    carry=0\n",
    "    while l1 or l2 or carry:\n",
    "        v1=l1.data if l1 else 0\n",
    "        v2=l2.data if l2 else 0\n",
    "        total=l1.val+l2+val+carry\n",
    "        carry=total//10\n",
    "        element=total%10\n",
    "        newnode=linkedlist.Node(element)\n",
    "        current.next=newnode\n",
    "    return dummy\n",
    "        \n",
    "    "
   ]
  },
  {
   "cell_type": "code",
   "execution_count": 12,
   "id": "dc12ba43",
   "metadata": {},
   "outputs": [
    {
     "ename": "NameError",
     "evalue": "name 'linkedlistNode' is not defined",
     "output_type": "error",
     "traceback": [
      "\u001b[1;31m---------------------------------------------------------------------------\u001b[0m",
      "\u001b[1;31mNameError\u001b[0m                                 Traceback (most recent call last)",
      "\u001b[1;32m~\\AppData\\Local\\Temp\\ipykernel_18608\\2101836796.py\u001b[0m in \u001b[0;36m<module>\u001b[1;34m\u001b[0m\n\u001b[1;32m----> 1\u001b[1;33m \u001b[0mvar\u001b[0m\u001b[1;33m(\u001b[0m\u001b[1;36m1\u001b[0m\u001b[1;33m,\u001b[0m\u001b[1;36m2\u001b[0m\u001b[1;33m)\u001b[0m\u001b[1;33m\u001b[0m\u001b[1;33m\u001b[0m\u001b[0m\n\u001b[0m",
      "\u001b[1;32m~\\AppData\\Local\\Temp\\ipykernel_18608\\1839865211.py\u001b[0m in \u001b[0;36mvar\u001b[1;34m(l1, l2)\u001b[0m\n\u001b[0;32m      1\u001b[0m \u001b[1;32mdef\u001b[0m \u001b[0mvar\u001b[0m\u001b[1;33m(\u001b[0m\u001b[0ml1\u001b[0m\u001b[1;33m,\u001b[0m\u001b[0ml2\u001b[0m\u001b[1;33m)\u001b[0m\u001b[1;33m:\u001b[0m\u001b[1;33m\u001b[0m\u001b[1;33m\u001b[0m\u001b[0m\n\u001b[1;32m----> 2\u001b[1;33m     \u001b[0mdummy\u001b[0m\u001b[1;33m=\u001b[0m\u001b[0mlinkedlistNode\u001b[0m\u001b[1;33m(\u001b[0m\u001b[1;36m0\u001b[0m\u001b[1;33m)\u001b[0m\u001b[1;33m\u001b[0m\u001b[1;33m\u001b[0m\u001b[0m\n\u001b[0m\u001b[0;32m      3\u001b[0m     \u001b[0mcurrent\u001b[0m\u001b[1;33m=\u001b[0m\u001b[0mdummy\u001b[0m\u001b[1;33m\u001b[0m\u001b[1;33m\u001b[0m\u001b[0m\n\u001b[0;32m      4\u001b[0m     \u001b[0mcarry\u001b[0m\u001b[1;33m=\u001b[0m\u001b[1;36m0\u001b[0m\u001b[1;33m\u001b[0m\u001b[1;33m\u001b[0m\u001b[0m\n\u001b[0;32m      5\u001b[0m     \u001b[1;32mwhile\u001b[0m \u001b[0ml1\u001b[0m \u001b[1;32mor\u001b[0m \u001b[0ml2\u001b[0m \u001b[1;32mor\u001b[0m \u001b[0mcarry\u001b[0m\u001b[1;33m:\u001b[0m\u001b[1;33m\u001b[0m\u001b[1;33m\u001b[0m\u001b[0m\n",
      "\u001b[1;31mNameError\u001b[0m: name 'linkedlistNode' is not defined"
     ]
    }
   ],
   "source": [
    "var(1,2)"
   ]
  },
  {
   "cell_type": "code",
   "execution_count": null,
   "id": "03b64f8a",
   "metadata": {},
   "outputs": [],
   "source": []
  },
  {
   "cell_type": "code",
   "execution_count": null,
   "id": "0c83bd2c",
   "metadata": {},
   "outputs": [],
   "source": []
  }
 ],
 "metadata": {
  "kernelspec": {
   "display_name": "Python 3 (ipykernel)",
   "language": "python",
   "name": "python3"
  },
  "language_info": {
   "codemirror_mode": {
    "name": "ipython",
    "version": 3
   },
   "file_extension": ".py",
   "mimetype": "text/x-python",
   "name": "python",
   "nbconvert_exporter": "python",
   "pygments_lexer": "ipython3",
   "version": "3.9.13"
  }
 },
 "nbformat": 4,
 "nbformat_minor": 5
}
